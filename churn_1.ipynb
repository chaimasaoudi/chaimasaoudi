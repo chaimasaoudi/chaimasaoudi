{
  "cells": [
    {
      "cell_type": "markdown",
      "metadata": {
        "id": "view-in-github",
        "colab_type": "text"
      },
      "source": [
        "<a href=\"https://colab.research.google.com/github/chaimasaoudi/chaimasaoudi/blob/main/churn_1.ipynb\" target=\"_parent\"><img src=\"https://colab.research.google.com/assets/colab-badge.svg\" alt=\"Open In Colab\"/></a>"
      ]
    },
    {
      "cell_type": "code",
      "source": [
        "import pandas as pd\n",
        "import numpy as np\n",
        "import seaborn as sns\n",
        "import matplotlib.pyplot as plt"
      ],
      "metadata": {
        "id": "9J7BqVCi5ZE0"
      },
      "execution_count": null,
      "outputs": []
    },
    {
      "cell_type": "code",
      "execution_count": null,
      "metadata": {
        "colab": {
          "base_uri": "https://localhost:8080/",
          "height": 708
        },
        "id": "kVFgK_QNxFZ-",
        "outputId": "8aed1aec-9778-4485-9ba8-76e5162e8d8d"
      },
      "outputs": [
        {
          "output_type": "execute_result",
          "data": {
            "text/plain": [
              "    Unnamed: 1                   Unnamed: 2  \\\n",
              "NaN       Data                     Variable   \n",
              "NaN     E Comm                   CustomerID   \n",
              "NaN     E Comm                        Churn   \n",
              "NaN     E Comm                       Tenure   \n",
              "NaN     E Comm         PreferredLoginDevice   \n",
              "NaN     E Comm                     CityTier   \n",
              "NaN     E Comm              WarehouseToHome   \n",
              "NaN     E Comm         PreferredPaymentMode   \n",
              "NaN     E Comm                       Gender   \n",
              "NaN     E Comm               HourSpendOnApp   \n",
              "NaN     E Comm     NumberOfDeviceRegistered   \n",
              "NaN     E Comm             PreferedOrderCat   \n",
              "NaN     E Comm            SatisfactionScore   \n",
              "NaN     E Comm                MaritalStatus   \n",
              "NaN     E Comm              NumberOfAddress   \n",
              "NaN     E Comm                     Complain   \n",
              "NaN     E Comm  OrderAmountHikeFromlastYear   \n",
              "NaN     E Comm                   CouponUsed   \n",
              "NaN     E Comm                   OrderCount   \n",
              "NaN     E Comm            DaySinceLastOrder   \n",
              "NaN     E Comm               CashbackAmount   \n",
              "\n",
              "                                            Unnamed: 3  \n",
              "NaN                                        Discerption  \n",
              "NaN                                 Unique customer ID  \n",
              "NaN                                         Churn Flag  \n",
              "NaN                 Tenure of customer in organization  \n",
              "NaN                 Preferred login device of customer  \n",
              "NaN                                          City tier  \n",
              "NaN  Distance in between warehouse to home of customer  \n",
              "NaN               Preferred payment method of customer  \n",
              "NaN                                 Gender of customer  \n",
              "NaN  Number of hours spend on mobile application or...  \n",
              "NaN  Total number of deceives is registered on part...  \n",
              "NaN  Preferred order category of customer in last m...  \n",
              "NaN          Satisfactory score of customer on service  \n",
              "NaN                         Marital status of customer  \n",
              "NaN  Total number of added added on particular cust...  \n",
              "NaN        Any complaint has been raised in last month  \n",
              "NaN       Percentage increases in order from last year  \n",
              "NaN  Total number of coupon has been used in last m...  \n",
              "NaN  Total number of orders has been places in last...  \n",
              "NaN                   Day Since last order by customer  \n",
              "NaN                     Average cashback in last month  "
            ],
            "text/html": [
              "\n",
              "  <div id=\"df-1d50d5b0-9d43-45c7-9192-17a1110cc188\">\n",
              "    <div class=\"colab-df-container\">\n",
              "      <div>\n",
              "<style scoped>\n",
              "    .dataframe tbody tr th:only-of-type {\n",
              "        vertical-align: middle;\n",
              "    }\n",
              "\n",
              "    .dataframe tbody tr th {\n",
              "        vertical-align: top;\n",
              "    }\n",
              "\n",
              "    .dataframe thead th {\n",
              "        text-align: right;\n",
              "    }\n",
              "</style>\n",
              "<table border=\"1\" class=\"dataframe\">\n",
              "  <thead>\n",
              "    <tr style=\"text-align: right;\">\n",
              "      <th></th>\n",
              "      <th>Unnamed: 1</th>\n",
              "      <th>Unnamed: 2</th>\n",
              "      <th>Unnamed: 3</th>\n",
              "    </tr>\n",
              "  </thead>\n",
              "  <tbody>\n",
              "    <tr>\n",
              "      <th>NaN</th>\n",
              "      <td>Data</td>\n",
              "      <td>Variable</td>\n",
              "      <td>Discerption</td>\n",
              "    </tr>\n",
              "    <tr>\n",
              "      <th>NaN</th>\n",
              "      <td>E Comm</td>\n",
              "      <td>CustomerID</td>\n",
              "      <td>Unique customer ID</td>\n",
              "    </tr>\n",
              "    <tr>\n",
              "      <th>NaN</th>\n",
              "      <td>E Comm</td>\n",
              "      <td>Churn</td>\n",
              "      <td>Churn Flag</td>\n",
              "    </tr>\n",
              "    <tr>\n",
              "      <th>NaN</th>\n",
              "      <td>E Comm</td>\n",
              "      <td>Tenure</td>\n",
              "      <td>Tenure of customer in organization</td>\n",
              "    </tr>\n",
              "    <tr>\n",
              "      <th>NaN</th>\n",
              "      <td>E Comm</td>\n",
              "      <td>PreferredLoginDevice</td>\n",
              "      <td>Preferred login device of customer</td>\n",
              "    </tr>\n",
              "    <tr>\n",
              "      <th>NaN</th>\n",
              "      <td>E Comm</td>\n",
              "      <td>CityTier</td>\n",
              "      <td>City tier</td>\n",
              "    </tr>\n",
              "    <tr>\n",
              "      <th>NaN</th>\n",
              "      <td>E Comm</td>\n",
              "      <td>WarehouseToHome</td>\n",
              "      <td>Distance in between warehouse to home of customer</td>\n",
              "    </tr>\n",
              "    <tr>\n",
              "      <th>NaN</th>\n",
              "      <td>E Comm</td>\n",
              "      <td>PreferredPaymentMode</td>\n",
              "      <td>Preferred payment method of customer</td>\n",
              "    </tr>\n",
              "    <tr>\n",
              "      <th>NaN</th>\n",
              "      <td>E Comm</td>\n",
              "      <td>Gender</td>\n",
              "      <td>Gender of customer</td>\n",
              "    </tr>\n",
              "    <tr>\n",
              "      <th>NaN</th>\n",
              "      <td>E Comm</td>\n",
              "      <td>HourSpendOnApp</td>\n",
              "      <td>Number of hours spend on mobile application or...</td>\n",
              "    </tr>\n",
              "    <tr>\n",
              "      <th>NaN</th>\n",
              "      <td>E Comm</td>\n",
              "      <td>NumberOfDeviceRegistered</td>\n",
              "      <td>Total number of deceives is registered on part...</td>\n",
              "    </tr>\n",
              "    <tr>\n",
              "      <th>NaN</th>\n",
              "      <td>E Comm</td>\n",
              "      <td>PreferedOrderCat</td>\n",
              "      <td>Preferred order category of customer in last m...</td>\n",
              "    </tr>\n",
              "    <tr>\n",
              "      <th>NaN</th>\n",
              "      <td>E Comm</td>\n",
              "      <td>SatisfactionScore</td>\n",
              "      <td>Satisfactory score of customer on service</td>\n",
              "    </tr>\n",
              "    <tr>\n",
              "      <th>NaN</th>\n",
              "      <td>E Comm</td>\n",
              "      <td>MaritalStatus</td>\n",
              "      <td>Marital status of customer</td>\n",
              "    </tr>\n",
              "    <tr>\n",
              "      <th>NaN</th>\n",
              "      <td>E Comm</td>\n",
              "      <td>NumberOfAddress</td>\n",
              "      <td>Total number of added added on particular cust...</td>\n",
              "    </tr>\n",
              "    <tr>\n",
              "      <th>NaN</th>\n",
              "      <td>E Comm</td>\n",
              "      <td>Complain</td>\n",
              "      <td>Any complaint has been raised in last month</td>\n",
              "    </tr>\n",
              "    <tr>\n",
              "      <th>NaN</th>\n",
              "      <td>E Comm</td>\n",
              "      <td>OrderAmountHikeFromlastYear</td>\n",
              "      <td>Percentage increases in order from last year</td>\n",
              "    </tr>\n",
              "    <tr>\n",
              "      <th>NaN</th>\n",
              "      <td>E Comm</td>\n",
              "      <td>CouponUsed</td>\n",
              "      <td>Total number of coupon has been used in last m...</td>\n",
              "    </tr>\n",
              "    <tr>\n",
              "      <th>NaN</th>\n",
              "      <td>E Comm</td>\n",
              "      <td>OrderCount</td>\n",
              "      <td>Total number of orders has been places in last...</td>\n",
              "    </tr>\n",
              "    <tr>\n",
              "      <th>NaN</th>\n",
              "      <td>E Comm</td>\n",
              "      <td>DaySinceLastOrder</td>\n",
              "      <td>Day Since last order by customer</td>\n",
              "    </tr>\n",
              "    <tr>\n",
              "      <th>NaN</th>\n",
              "      <td>E Comm</td>\n",
              "      <td>CashbackAmount</td>\n",
              "      <td>Average cashback in last month</td>\n",
              "    </tr>\n",
              "  </tbody>\n",
              "</table>\n",
              "</div>\n",
              "      <button class=\"colab-df-convert\" onclick=\"convertToInteractive('df-1d50d5b0-9d43-45c7-9192-17a1110cc188')\"\n",
              "              title=\"Convert this dataframe to an interactive table.\"\n",
              "              style=\"display:none;\">\n",
              "        \n",
              "  <svg xmlns=\"http://www.w3.org/2000/svg\" height=\"24px\"viewBox=\"0 0 24 24\"\n",
              "       width=\"24px\">\n",
              "    <path d=\"M0 0h24v24H0V0z\" fill=\"none\"/>\n",
              "    <path d=\"M18.56 5.44l.94 2.06.94-2.06 2.06-.94-2.06-.94-.94-2.06-.94 2.06-2.06.94zm-11 1L8.5 8.5l.94-2.06 2.06-.94-2.06-.94L8.5 2.5l-.94 2.06-2.06.94zm10 10l.94 2.06.94-2.06 2.06-.94-2.06-.94-.94-2.06-.94 2.06-2.06.94z\"/><path d=\"M17.41 7.96l-1.37-1.37c-.4-.4-.92-.59-1.43-.59-.52 0-1.04.2-1.43.59L10.3 9.45l-7.72 7.72c-.78.78-.78 2.05 0 2.83L4 21.41c.39.39.9.59 1.41.59.51 0 1.02-.2 1.41-.59l7.78-7.78 2.81-2.81c.8-.78.8-2.07 0-2.86zM5.41 20L4 18.59l7.72-7.72 1.47 1.35L5.41 20z\"/>\n",
              "  </svg>\n",
              "      </button>\n",
              "      \n",
              "  <style>\n",
              "    .colab-df-container {\n",
              "      display:flex;\n",
              "      flex-wrap:wrap;\n",
              "      gap: 12px;\n",
              "    }\n",
              "\n",
              "    .colab-df-convert {\n",
              "      background-color: #E8F0FE;\n",
              "      border: none;\n",
              "      border-radius: 50%;\n",
              "      cursor: pointer;\n",
              "      display: none;\n",
              "      fill: #1967D2;\n",
              "      height: 32px;\n",
              "      padding: 0 0 0 0;\n",
              "      width: 32px;\n",
              "    }\n",
              "\n",
              "    .colab-df-convert:hover {\n",
              "      background-color: #E2EBFA;\n",
              "      box-shadow: 0px 1px 2px rgba(60, 64, 67, 0.3), 0px 1px 3px 1px rgba(60, 64, 67, 0.15);\n",
              "      fill: #174EA6;\n",
              "    }\n",
              "\n",
              "    [theme=dark] .colab-df-convert {\n",
              "      background-color: #3B4455;\n",
              "      fill: #D2E3FC;\n",
              "    }\n",
              "\n",
              "    [theme=dark] .colab-df-convert:hover {\n",
              "      background-color: #434B5C;\n",
              "      box-shadow: 0px 1px 3px 1px rgba(0, 0, 0, 0.15);\n",
              "      filter: drop-shadow(0px 1px 2px rgba(0, 0, 0, 0.3));\n",
              "      fill: #FFFFFF;\n",
              "    }\n",
              "  </style>\n",
              "\n",
              "      <script>\n",
              "        const buttonEl =\n",
              "          document.querySelector('#df-1d50d5b0-9d43-45c7-9192-17a1110cc188 button.colab-df-convert');\n",
              "        buttonEl.style.display =\n",
              "          google.colab.kernel.accessAllowed ? 'block' : 'none';\n",
              "\n",
              "        async function convertToInteractive(key) {\n",
              "          const element = document.querySelector('#df-1d50d5b0-9d43-45c7-9192-17a1110cc188');\n",
              "          const dataTable =\n",
              "            await google.colab.kernel.invokeFunction('convertToInteractive',\n",
              "                                                     [key], {});\n",
              "          if (!dataTable) return;\n",
              "\n",
              "          const docLinkHtml = 'Like what you see? Visit the ' +\n",
              "            '<a target=\"_blank\" href=https://colab.research.google.com/notebooks/data_table.ipynb>data table notebook</a>'\n",
              "            + ' to learn more about interactive tables.';\n",
              "          element.innerHTML = '';\n",
              "          dataTable['output_type'] = 'display_data';\n",
              "          await google.colab.output.renderOutput(dataTable, element);\n",
              "          const docLink = document.createElement('div');\n",
              "          docLink.innerHTML = docLinkHtml;\n",
              "          element.appendChild(docLink);\n",
              "        }\n",
              "      </script>\n",
              "    </div>\n",
              "  </div>\n",
              "  "
            ]
          },
          "metadata": {},
          "execution_count": 2
        }
      ],
      "source": [
        "df=pd.read_excel(\"churn.xlsx\",'Data Dict',index_col=0)\n",
        "df"
      ]
    },
    {
      "cell_type": "markdown",
      "source": [
        "shape of data frame"
      ],
      "metadata": {
        "id": "YWXL4xOX1UyX"
      }
    },
    {
      "cell_type": "code",
      "source": [
        "\n",
        "df=pd.read_excel(\"churn.xlsx\",'E Comm')\n",
        "df.shape"
      ],
      "metadata": {
        "colab": {
          "base_uri": "https://localhost:8080/"
        },
        "id": "Vexu_mp21SSx",
        "outputId": "beebd676-2a68-43a6-8b9a-ecc33695edb0"
      },
      "execution_count": null,
      "outputs": [
        {
          "output_type": "execute_result",
          "data": {
            "text/plain": [
              "(5630, 20)"
            ]
          },
          "metadata": {},
          "execution_count": 3
        }
      ]
    },
    {
      "cell_type": "markdown",
      "source": [
        "Descriptions statistiques du datase\n",
        "\n"
      ],
      "metadata": {
        "id": "Kt4bS_m01wec"
      }
    },
    {
      "cell_type": "code",
      "source": [
        "df.describe()"
      ],
      "metadata": {
        "colab": {
          "base_uri": "https://localhost:8080/",
          "height": 364
        },
        "id": "w1EsQHBk1tgn",
        "outputId": "347e3d20-6f8f-428d-a456-48d39ff51648"
      },
      "execution_count": null,
      "outputs": [
        {
          "output_type": "execute_result",
          "data": {
            "text/plain": [
              "         CustomerID        Churn       Tenure     CityTier  WarehouseToHome  \\\n",
              "count   5630.000000  5630.000000  5366.000000  5630.000000      5379.000000   \n",
              "mean   52815.500000     0.168384    10.189899     1.654707        15.639896   \n",
              "std     1625.385339     0.374240     8.557241     0.915389         8.531475   \n",
              "min    50001.000000     0.000000     0.000000     1.000000         5.000000   \n",
              "25%    51408.250000     0.000000     2.000000     1.000000         9.000000   \n",
              "50%    52815.500000     0.000000     9.000000     1.000000        14.000000   \n",
              "75%    54222.750000     0.000000    16.000000     3.000000        20.000000   \n",
              "max    55630.000000     1.000000    61.000000     3.000000       127.000000   \n",
              "\n",
              "       HourSpendOnApp  NumberOfDeviceRegistered  SatisfactionScore  \\\n",
              "count     5375.000000               5630.000000        5630.000000   \n",
              "mean         2.931535                  3.688988           3.066785   \n",
              "std          0.721926                  1.023999           1.380194   \n",
              "min          0.000000                  1.000000           1.000000   \n",
              "25%          2.000000                  3.000000           2.000000   \n",
              "50%          3.000000                  4.000000           3.000000   \n",
              "75%          3.000000                  4.000000           4.000000   \n",
              "max          5.000000                  6.000000           5.000000   \n",
              "\n",
              "       NumberOfAddress     Complain  OrderAmountHikeFromlastYear   CouponUsed  \\\n",
              "count      5630.000000  5630.000000                  5365.000000  5374.000000   \n",
              "mean          4.214032     0.284902                    15.707922     1.751023   \n",
              "std           2.583586     0.451408                     3.675485     1.894621   \n",
              "min           1.000000     0.000000                    11.000000     0.000000   \n",
              "25%           2.000000     0.000000                    13.000000     1.000000   \n",
              "50%           3.000000     0.000000                    15.000000     1.000000   \n",
              "75%           6.000000     1.000000                    18.000000     2.000000   \n",
              "max          22.000000     1.000000                    26.000000    16.000000   \n",
              "\n",
              "        OrderCount  DaySinceLastOrder  CashbackAmount  \n",
              "count  5372.000000        5323.000000     5630.000000  \n",
              "mean      3.008004           4.543491      177.223030  \n",
              "std       2.939680           3.654433       49.207036  \n",
              "min       1.000000           0.000000        0.000000  \n",
              "25%       1.000000           2.000000      145.770000  \n",
              "50%       2.000000           3.000000      163.280000  \n",
              "75%       3.000000           7.000000      196.392500  \n",
              "max      16.000000          46.000000      324.990000  "
            ],
            "text/html": [
              "\n",
              "  <div id=\"df-43f51e29-adad-473a-91f5-72263084413a\">\n",
              "    <div class=\"colab-df-container\">\n",
              "      <div>\n",
              "<style scoped>\n",
              "    .dataframe tbody tr th:only-of-type {\n",
              "        vertical-align: middle;\n",
              "    }\n",
              "\n",
              "    .dataframe tbody tr th {\n",
              "        vertical-align: top;\n",
              "    }\n",
              "\n",
              "    .dataframe thead th {\n",
              "        text-align: right;\n",
              "    }\n",
              "</style>\n",
              "<table border=\"1\" class=\"dataframe\">\n",
              "  <thead>\n",
              "    <tr style=\"text-align: right;\">\n",
              "      <th></th>\n",
              "      <th>CustomerID</th>\n",
              "      <th>Churn</th>\n",
              "      <th>Tenure</th>\n",
              "      <th>CityTier</th>\n",
              "      <th>WarehouseToHome</th>\n",
              "      <th>HourSpendOnApp</th>\n",
              "      <th>NumberOfDeviceRegistered</th>\n",
              "      <th>SatisfactionScore</th>\n",
              "      <th>NumberOfAddress</th>\n",
              "      <th>Complain</th>\n",
              "      <th>OrderAmountHikeFromlastYear</th>\n",
              "      <th>CouponUsed</th>\n",
              "      <th>OrderCount</th>\n",
              "      <th>DaySinceLastOrder</th>\n",
              "      <th>CashbackAmount</th>\n",
              "    </tr>\n",
              "  </thead>\n",
              "  <tbody>\n",
              "    <tr>\n",
              "      <th>count</th>\n",
              "      <td>5630.000000</td>\n",
              "      <td>5630.000000</td>\n",
              "      <td>5366.000000</td>\n",
              "      <td>5630.000000</td>\n",
              "      <td>5379.000000</td>\n",
              "      <td>5375.000000</td>\n",
              "      <td>5630.000000</td>\n",
              "      <td>5630.000000</td>\n",
              "      <td>5630.000000</td>\n",
              "      <td>5630.000000</td>\n",
              "      <td>5365.000000</td>\n",
              "      <td>5374.000000</td>\n",
              "      <td>5372.000000</td>\n",
              "      <td>5323.000000</td>\n",
              "      <td>5630.000000</td>\n",
              "    </tr>\n",
              "    <tr>\n",
              "      <th>mean</th>\n",
              "      <td>52815.500000</td>\n",
              "      <td>0.168384</td>\n",
              "      <td>10.189899</td>\n",
              "      <td>1.654707</td>\n",
              "      <td>15.639896</td>\n",
              "      <td>2.931535</td>\n",
              "      <td>3.688988</td>\n",
              "      <td>3.066785</td>\n",
              "      <td>4.214032</td>\n",
              "      <td>0.284902</td>\n",
              "      <td>15.707922</td>\n",
              "      <td>1.751023</td>\n",
              "      <td>3.008004</td>\n",
              "      <td>4.543491</td>\n",
              "      <td>177.223030</td>\n",
              "    </tr>\n",
              "    <tr>\n",
              "      <th>std</th>\n",
              "      <td>1625.385339</td>\n",
              "      <td>0.374240</td>\n",
              "      <td>8.557241</td>\n",
              "      <td>0.915389</td>\n",
              "      <td>8.531475</td>\n",
              "      <td>0.721926</td>\n",
              "      <td>1.023999</td>\n",
              "      <td>1.380194</td>\n",
              "      <td>2.583586</td>\n",
              "      <td>0.451408</td>\n",
              "      <td>3.675485</td>\n",
              "      <td>1.894621</td>\n",
              "      <td>2.939680</td>\n",
              "      <td>3.654433</td>\n",
              "      <td>49.207036</td>\n",
              "    </tr>\n",
              "    <tr>\n",
              "      <th>min</th>\n",
              "      <td>50001.000000</td>\n",
              "      <td>0.000000</td>\n",
              "      <td>0.000000</td>\n",
              "      <td>1.000000</td>\n",
              "      <td>5.000000</td>\n",
              "      <td>0.000000</td>\n",
              "      <td>1.000000</td>\n",
              "      <td>1.000000</td>\n",
              "      <td>1.000000</td>\n",
              "      <td>0.000000</td>\n",
              "      <td>11.000000</td>\n",
              "      <td>0.000000</td>\n",
              "      <td>1.000000</td>\n",
              "      <td>0.000000</td>\n",
              "      <td>0.000000</td>\n",
              "    </tr>\n",
              "    <tr>\n",
              "      <th>25%</th>\n",
              "      <td>51408.250000</td>\n",
              "      <td>0.000000</td>\n",
              "      <td>2.000000</td>\n",
              "      <td>1.000000</td>\n",
              "      <td>9.000000</td>\n",
              "      <td>2.000000</td>\n",
              "      <td>3.000000</td>\n",
              "      <td>2.000000</td>\n",
              "      <td>2.000000</td>\n",
              "      <td>0.000000</td>\n",
              "      <td>13.000000</td>\n",
              "      <td>1.000000</td>\n",
              "      <td>1.000000</td>\n",
              "      <td>2.000000</td>\n",
              "      <td>145.770000</td>\n",
              "    </tr>\n",
              "    <tr>\n",
              "      <th>50%</th>\n",
              "      <td>52815.500000</td>\n",
              "      <td>0.000000</td>\n",
              "      <td>9.000000</td>\n",
              "      <td>1.000000</td>\n",
              "      <td>14.000000</td>\n",
              "      <td>3.000000</td>\n",
              "      <td>4.000000</td>\n",
              "      <td>3.000000</td>\n",
              "      <td>3.000000</td>\n",
              "      <td>0.000000</td>\n",
              "      <td>15.000000</td>\n",
              "      <td>1.000000</td>\n",
              "      <td>2.000000</td>\n",
              "      <td>3.000000</td>\n",
              "      <td>163.280000</td>\n",
              "    </tr>\n",
              "    <tr>\n",
              "      <th>75%</th>\n",
              "      <td>54222.750000</td>\n",
              "      <td>0.000000</td>\n",
              "      <td>16.000000</td>\n",
              "      <td>3.000000</td>\n",
              "      <td>20.000000</td>\n",
              "      <td>3.000000</td>\n",
              "      <td>4.000000</td>\n",
              "      <td>4.000000</td>\n",
              "      <td>6.000000</td>\n",
              "      <td>1.000000</td>\n",
              "      <td>18.000000</td>\n",
              "      <td>2.000000</td>\n",
              "      <td>3.000000</td>\n",
              "      <td>7.000000</td>\n",
              "      <td>196.392500</td>\n",
              "    </tr>\n",
              "    <tr>\n",
              "      <th>max</th>\n",
              "      <td>55630.000000</td>\n",
              "      <td>1.000000</td>\n",
              "      <td>61.000000</td>\n",
              "      <td>3.000000</td>\n",
              "      <td>127.000000</td>\n",
              "      <td>5.000000</td>\n",
              "      <td>6.000000</td>\n",
              "      <td>5.000000</td>\n",
              "      <td>22.000000</td>\n",
              "      <td>1.000000</td>\n",
              "      <td>26.000000</td>\n",
              "      <td>16.000000</td>\n",
              "      <td>16.000000</td>\n",
              "      <td>46.000000</td>\n",
              "      <td>324.990000</td>\n",
              "    </tr>\n",
              "  </tbody>\n",
              "</table>\n",
              "</div>\n",
              "      <button class=\"colab-df-convert\" onclick=\"convertToInteractive('df-43f51e29-adad-473a-91f5-72263084413a')\"\n",
              "              title=\"Convert this dataframe to an interactive table.\"\n",
              "              style=\"display:none;\">\n",
              "        \n",
              "  <svg xmlns=\"http://www.w3.org/2000/svg\" height=\"24px\"viewBox=\"0 0 24 24\"\n",
              "       width=\"24px\">\n",
              "    <path d=\"M0 0h24v24H0V0z\" fill=\"none\"/>\n",
              "    <path d=\"M18.56 5.44l.94 2.06.94-2.06 2.06-.94-2.06-.94-.94-2.06-.94 2.06-2.06.94zm-11 1L8.5 8.5l.94-2.06 2.06-.94-2.06-.94L8.5 2.5l-.94 2.06-2.06.94zm10 10l.94 2.06.94-2.06 2.06-.94-2.06-.94-.94-2.06-.94 2.06-2.06.94z\"/><path d=\"M17.41 7.96l-1.37-1.37c-.4-.4-.92-.59-1.43-.59-.52 0-1.04.2-1.43.59L10.3 9.45l-7.72 7.72c-.78.78-.78 2.05 0 2.83L4 21.41c.39.39.9.59 1.41.59.51 0 1.02-.2 1.41-.59l7.78-7.78 2.81-2.81c.8-.78.8-2.07 0-2.86zM5.41 20L4 18.59l7.72-7.72 1.47 1.35L5.41 20z\"/>\n",
              "  </svg>\n",
              "      </button>\n",
              "      \n",
              "  <style>\n",
              "    .colab-df-container {\n",
              "      display:flex;\n",
              "      flex-wrap:wrap;\n",
              "      gap: 12px;\n",
              "    }\n",
              "\n",
              "    .colab-df-convert {\n",
              "      background-color: #E8F0FE;\n",
              "      border: none;\n",
              "      border-radius: 50%;\n",
              "      cursor: pointer;\n",
              "      display: none;\n",
              "      fill: #1967D2;\n",
              "      height: 32px;\n",
              "      padding: 0 0 0 0;\n",
              "      width: 32px;\n",
              "    }\n",
              "\n",
              "    .colab-df-convert:hover {\n",
              "      background-color: #E2EBFA;\n",
              "      box-shadow: 0px 1px 2px rgba(60, 64, 67, 0.3), 0px 1px 3px 1px rgba(60, 64, 67, 0.15);\n",
              "      fill: #174EA6;\n",
              "    }\n",
              "\n",
              "    [theme=dark] .colab-df-convert {\n",
              "      background-color: #3B4455;\n",
              "      fill: #D2E3FC;\n",
              "    }\n",
              "\n",
              "    [theme=dark] .colab-df-convert:hover {\n",
              "      background-color: #434B5C;\n",
              "      box-shadow: 0px 1px 3px 1px rgba(0, 0, 0, 0.15);\n",
              "      filter: drop-shadow(0px 1px 2px rgba(0, 0, 0, 0.3));\n",
              "      fill: #FFFFFF;\n",
              "    }\n",
              "  </style>\n",
              "\n",
              "      <script>\n",
              "        const buttonEl =\n",
              "          document.querySelector('#df-43f51e29-adad-473a-91f5-72263084413a button.colab-df-convert');\n",
              "        buttonEl.style.display =\n",
              "          google.colab.kernel.accessAllowed ? 'block' : 'none';\n",
              "\n",
              "        async function convertToInteractive(key) {\n",
              "          const element = document.querySelector('#df-43f51e29-adad-473a-91f5-72263084413a');\n",
              "          const dataTable =\n",
              "            await google.colab.kernel.invokeFunction('convertToInteractive',\n",
              "                                                     [key], {});\n",
              "          if (!dataTable) return;\n",
              "\n",
              "          const docLinkHtml = 'Like what you see? Visit the ' +\n",
              "            '<a target=\"_blank\" href=https://colab.research.google.com/notebooks/data_table.ipynb>data table notebook</a>'\n",
              "            + ' to learn more about interactive tables.';\n",
              "          element.innerHTML = '';\n",
              "          dataTable['output_type'] = 'display_data';\n",
              "          await google.colab.output.renderOutput(dataTable, element);\n",
              "          const docLink = document.createElement('div');\n",
              "          docLink.innerHTML = docLinkHtml;\n",
              "          element.appendChild(docLink);\n",
              "        }\n",
              "      </script>\n",
              "    </div>\n",
              "  </div>\n",
              "  "
            ]
          },
          "metadata": {},
          "execution_count": 4
        }
      ]
    },
    {
      "cell_type": "markdown",
      "source": [
        "Columns types"
      ],
      "metadata": {
        "id": "ge_B7TqN3QM9"
      }
    },
    {
      "cell_type": "code",
      "source": [
        "df.dtypes"
      ],
      "metadata": {
        "colab": {
          "base_uri": "https://localhost:8080/"
        },
        "id": "7m5gpqtp3NwQ",
        "outputId": "8e8dfeca-2c2d-4bb7-b97e-dbd8ffc67e49"
      },
      "execution_count": null,
      "outputs": [
        {
          "output_type": "execute_result",
          "data": {
            "text/plain": [
              "CustomerID                       int64\n",
              "Churn                            int64\n",
              "Tenure                         float64\n",
              "PreferredLoginDevice            object\n",
              "CityTier                         int64\n",
              "WarehouseToHome                float64\n",
              "PreferredPaymentMode            object\n",
              "Gender                          object\n",
              "HourSpendOnApp                 float64\n",
              "NumberOfDeviceRegistered         int64\n",
              "PreferedOrderCat                object\n",
              "SatisfactionScore                int64\n",
              "MaritalStatus                   object\n",
              "NumberOfAddress                  int64\n",
              "Complain                         int64\n",
              "OrderAmountHikeFromlastYear    float64\n",
              "CouponUsed                     float64\n",
              "OrderCount                     float64\n",
              "DaySinceLastOrder              float64\n",
              "CashbackAmount                 float64\n",
              "dtype: object"
            ]
          },
          "metadata": {},
          "execution_count": 5
        }
      ]
    },
    {
      "cell_type": "markdown",
      "source": [
        "Duplicate"
      ],
      "metadata": {
        "id": "991Jj08l2N7O"
      }
    },
    {
      "cell_type": "code",
      "source": [
        "df.duplicated().sum()"
      ],
      "metadata": {
        "colab": {
          "base_uri": "https://localhost:8080/"
        },
        "id": "KlTKVLrl2K37",
        "outputId": "0d2c11d9-292e-44e3-da4a-2fac40e5faed"
      },
      "execution_count": null,
      "outputs": [
        {
          "output_type": "execute_result",
          "data": {
            "text/plain": [
              "0"
            ]
          },
          "metadata": {},
          "execution_count": 6
        }
      ]
    },
    {
      "cell_type": "markdown",
      "source": [
        "Missing values\n"
      ],
      "metadata": {
        "id": "NSQajKI52c9B"
      }
    },
    {
      "cell_type": "code",
      "source": [
        "df.isnull().sum()"
      ],
      "metadata": {
        "colab": {
          "base_uri": "https://localhost:8080/"
        },
        "id": "fyhpKvSY2kSF",
        "outputId": "7fbe1737-8d0b-4e1b-c553-fe3f67d29dfa"
      },
      "execution_count": null,
      "outputs": [
        {
          "output_type": "execute_result",
          "data": {
            "text/plain": [
              "CustomerID                       0\n",
              "Churn                            0\n",
              "Tenure                         264\n",
              "PreferredLoginDevice             0\n",
              "CityTier                         0\n",
              "WarehouseToHome                251\n",
              "PreferredPaymentMode             0\n",
              "Gender                           0\n",
              "HourSpendOnApp                 255\n",
              "NumberOfDeviceRegistered         0\n",
              "PreferedOrderCat                 0\n",
              "SatisfactionScore                0\n",
              "MaritalStatus                    0\n",
              "NumberOfAddress                  0\n",
              "Complain                         0\n",
              "OrderAmountHikeFromlastYear    265\n",
              "CouponUsed                     256\n",
              "OrderCount                     258\n",
              "DaySinceLastOrder              307\n",
              "CashbackAmount                   0\n",
              "dtype: int64"
            ]
          },
          "metadata": {},
          "execution_count": 7
        }
      ]
    },
    {
      "cell_type": "markdown",
      "source": [
        "Deal with missing values pandas **(KnnInputer)**"
      ],
      "metadata": {
        "id": "wP3ZrXPK2r6d"
      }
    },
    {
      "cell_type": "code",
      "execution_count": null,
      "metadata": {
        "colab": {
          "base_uri": "https://localhost:8080/"
        },
        "id": "N5Blz5KGIBxR",
        "outputId": "cbc83c05-dddb-46b3-febc-dc81dba5c7ae"
      },
      "outputs": [
        {
          "output_type": "execute_result",
          "data": {
            "text/plain": [
              "array([[50001, 1, 4.0, ..., 1.0, 5.0, 159.93],\n",
              "       [50002, 1, nan, ..., 1.0, 0.0, 120.9],\n",
              "       [50003, 1, nan, ..., 1.0, 3.0, 120.28],\n",
              "       ...,\n",
              "       [55628, 0, 1.0, ..., 2.0, 4.0, 186.42],\n",
              "       [55629, 0, 23.0, ..., 2.0, 9.0, 178.9],\n",
              "       [55630, 0, 8.0, ..., 2.0, 3.0, 169.04]], dtype=object)"
            ]
          },
          "metadata": {},
          "execution_count": 8
        }
      ],
      "source": [
        "\n",
        "from sklearn.impute import KNNImputer\n",
        "imputer=KNNImputer(n_neighbors=2)\n",
        "a=np.array(df)\n",
        "a\n"
      ]
    },
    {
      "cell_type": "code",
      "source": [
        "a[:,-5:-1]=imputer.fit_transform(a[:,-5:-1])\n",
        "a[:,[2,5,8]]=imputer.fit_transform(a[:,[2,5,8]])\n",
        "df2=pd.DataFrame(a,columns=df.columns)\n",
        "df2.isnull().sum()"
      ],
      "metadata": {
        "colab": {
          "base_uri": "https://localhost:8080/"
        },
        "id": "lj9Gqs_J5LZA",
        "outputId": "1abdb526-943f-4589-bc47-3e8708ecea9e"
      },
      "execution_count": null,
      "outputs": [
        {
          "output_type": "execute_result",
          "data": {
            "text/plain": [
              "CustomerID                     0\n",
              "Churn                          0\n",
              "Tenure                         0\n",
              "PreferredLoginDevice           0\n",
              "CityTier                       0\n",
              "WarehouseToHome                0\n",
              "PreferredPaymentMode           0\n",
              "Gender                         0\n",
              "HourSpendOnApp                 0\n",
              "NumberOfDeviceRegistered       0\n",
              "PreferedOrderCat               0\n",
              "SatisfactionScore              0\n",
              "MaritalStatus                  0\n",
              "NumberOfAddress                0\n",
              "Complain                       0\n",
              "OrderAmountHikeFromlastYear    0\n",
              "CouponUsed                     0\n",
              "OrderCount                     0\n",
              "DaySinceLastOrder              0\n",
              "CashbackAmount                 0\n",
              "dtype: int64"
            ]
          },
          "metadata": {},
          "execution_count": 9
        }
      ]
    },
    {
      "cell_type": "markdown",
      "metadata": {
        "id": "09yfh4SKvJRG"
      },
      "source": [
        "BoxPlot (outliers detection)"
      ]
    },
    {
      "cell_type": "code",
      "source": [
        "plt.figure(figsize=(7,5))\n",
        "figure = sns.boxplot(y=df2['Tenure'])\n",
        "\n"
      ],
      "metadata": {
        "colab": {
          "base_uri": "https://localhost:8080/",
          "height": 306
        },
        "id": "vNn3h7fi53G5",
        "outputId": "218d80e3-9a28-4c93-87a0-681de770fc80"
      },
      "execution_count": null,
      "outputs": [
        {
          "output_type": "display_data",
          "data": {
            "text/plain": [
              "<Figure size 504x360 with 1 Axes>"
            ],
            "image/png": "[encoded data removed]"
          },
          "metadata": {
            "needs_background": "light"
          }
        }
      ]
    },
    {
      "cell_type": "code",
      "source": [
        "def IQR_Q3_Q1 (data_frame,champ):\n",
        "  Q1=data_frame[champ].quantile(0.25)\n",
        "  Q3=data_frame[champ].quantile(0.75)\n",
        "  iqr=Q3-Q1\n",
        "  return([iqr,Q3,Q1])\n",
        "def Acceptebale_range(data_frame,champ):\n",
        "    l_iqr=IQR_Q3_Q1(data_frame,champ)\n",
        "    #Q3=l_iqr[1]\n",
        "    #Q1=l_iqr[2]\n",
        "    #IQR=l_iqr[0]\n",
        "    lower_limit = l_iqr[2] - 1.5*l_iqr[0]\n",
        "    upper_limit = l_iqr[1] + 1.5*l_iqr[0]\n",
        "    return [lower_limit,upper_limit]\n"
      ],
      "metadata": {
        "id": "8wyyubZm_sJV"
      },
      "execution_count": null,
      "outputs": []
    },
    {
      "cell_type": "code",
      "source": [
        "limit=Acceptebale_range(df2,'Tenure')\n",
        "print(limit[0],\"=<Acceptebale range<=\",limit[1])"
      ],
      "metadata": {
        "colab": {
          "base_uri": "https://localhost:8080/"
        },
        "id": "9yfMu_lmD_Io",
        "outputId": "fdba0560-caa3-46a8-cd83-274a487b530d"
      },
      "execution_count": null,
      "outputs": [
        {
          "output_type": "stream",
          "name": "stdout",
          "text": [
            "-19.0 =<Acceptebale range<= 37.0\n"
          ]
        }
      ]
    },
    {
      "cell_type": "markdown",
      "source": [
        "outliers\n",
        "\n"
      ],
      "metadata": {
        "id": "IxRL-PvgPmJL"
      }
    },
    {
      "cell_type": "code",
      "source": [
        "df2[(df2['Tenure']>limit[1])|(df2['Tenure']<limit[0])]\n"
      ],
      "metadata": {
        "colab": {
          "base_uri": "https://localhost:8080/",
          "height": 273
        },
        "id": "yT0MIFnOE7kh",
        "outputId": "45a5c568-ca14-4110-c907-6d674f8eac50"
      },
      "execution_count": null,
      "outputs": [
        {
          "output_type": "execute_result",
          "data": {
            "text/plain": [
              "     CustomerID Churn Tenure PreferredLoginDevice CityTier WarehouseToHome  \\\n",
              "928       50929     0   50.0                Phone        1             6.0   \n",
              "2719      52720     0   60.0         Mobile Phone        3            27.0   \n",
              "3743      53744     0   51.0         Mobile Phone        1             7.0   \n",
              "5534      55535     0   61.0         Mobile Phone        3            28.0   \n",
              "\n",
              "     PreferredPaymentMode  Gender HourSpendOnApp NumberOfDeviceRegistered  \\\n",
              "928            Debit Card    Male            3.0                        1   \n",
              "2719           Debit Card  Female            3.0                        3   \n",
              "3743           Debit Card    Male            4.0                        2   \n",
              "5534           Debit Card  Female            4.0                        4   \n",
              "\n",
              "        PreferedOrderCat SatisfactionScore MaritalStatus NumberOfAddress  \\\n",
              "928   Laptop & Accessory                 3      Divorced               1   \n",
              "2719             Grocery                 1       Married               5   \n",
              "3743  Laptop & Accessory                 3      Divorced               2   \n",
              "5534             Grocery                 1       Married               6   \n",
              "\n",
              "     Complain OrderAmountHikeFromlastYear CouponUsed OrderCount  \\\n",
              "928         0                        24.0        1.0        2.0   \n",
              "2719        1                        13.0        0.0        1.0   \n",
              "3743        0                        25.0        2.0        3.0   \n",
              "5534        1                        13.0        1.0        2.0   \n",
              "\n",
              "     DaySinceLastOrder CashbackAmount  \n",
              "928                8.0          149.0  \n",
              "2719               0.0         278.75  \n",
              "3743               9.0          174.0  \n",
              "5534               1.0         303.75  "
            ],
            "text/html": [
              "\n",
              "  <div id=\"df-5f13de73-072f-43f1-b441-41eeb38b2ce7\">\n",
              "    <div class=\"colab-df-container\">\n",
              "      <div>\n",
              "<style scoped>\n",
              "    .dataframe tbody tr th:only-of-type {\n",
              "        vertical-align: middle;\n",
              "    }\n",
              "\n",
              "    .dataframe tbody tr th {\n",
              "        vertical-align: top;\n",
              "    }\n",
              "\n",
              "    .dataframe thead th {\n",
              "        text-align: right;\n",
              "    }\n",
              "</style>\n",
              "<table border=\"1\" class=\"dataframe\">\n",
              "  <thead>\n",
              "    <tr style=\"text-align: right;\">\n",
              "      <th></th>\n",
              "      <th>CustomerID</th>\n",
              "      <th>Churn</th>\n",
              "      <th>Tenure</th>\n",
              "      <th>PreferredLoginDevice</th>\n",
              "      <th>CityTier</th>\n",
              "      <th>WarehouseToHome</th>\n",
              "      <th>PreferredPaymentMode</th>\n",
              "      <th>Gender</th>\n",
              "      <th>HourSpendOnApp</th>\n",
              "      <th>NumberOfDeviceRegistered</th>\n",
              "      <th>PreferedOrderCat</th>\n",
              "      <th>SatisfactionScore</th>\n",
              "      <th>MaritalStatus</th>\n",
              "      <th>NumberOfAddress</th>\n",
              "      <th>Complain</th>\n",
              "      <th>OrderAmountHikeFromlastYear</th>\n",
              "      <th>CouponUsed</th>\n",
              "      <th>OrderCount</th>\n",
              "      <th>DaySinceLastOrder</th>\n",
              "      <th>CashbackAmount</th>\n",
              "    </tr>\n",
              "  </thead>\n",
              "  <tbody>\n",
              "    <tr>\n",
              "      <th>928</th>\n",
              "      <td>50929</td>\n",
              "      <td>0</td>\n",
              "      <td>50.0</td>\n",
              "      <td>Phone</td>\n",
              "      <td>1</td>\n",
              "      <td>6.0</td>\n",
              "      <td>Debit Card</td>\n",
              "      <td>Male</td>\n",
              "      <td>3.0</td>\n",
              "      <td>1</td>\n",
              "      <td>Laptop &amp; Accessory</td>\n",
              "      <td>3</td>\n",
              "      <td>Divorced</td>\n",
              "      <td>1</td>\n",
              "      <td>0</td>\n",
              "      <td>24.0</td>\n",
              "      <td>1.0</td>\n",
              "      <td>2.0</td>\n",
              "      <td>8.0</td>\n",
              "      <td>149.0</td>\n",
              "    </tr>\n",
              "    <tr>\n",
              "      <th>2719</th>\n",
              "      <td>52720</td>\n",
              "      <td>0</td>\n",
              "      <td>60.0</td>\n",
              "      <td>Mobile Phone</td>\n",
              "      <td>3</td>\n",
              "      <td>27.0</td>\n",
              "      <td>Debit Card</td>\n",
              "      <td>Female</td>\n",
              "      <td>3.0</td>\n",
              "      <td>3</td>\n",
              "      <td>Grocery</td>\n",
              "      <td>1</td>\n",
              "      <td>Married</td>\n",
              "      <td>5</td>\n",
              "      <td>1</td>\n",
              "      <td>13.0</td>\n",
              "      <td>0.0</td>\n",
              "      <td>1.0</td>\n",
              "      <td>0.0</td>\n",
              "      <td>278.75</td>\n",
              "    </tr>\n",
              "    <tr>\n",
              "      <th>3743</th>\n",
              "      <td>53744</td>\n",
              "      <td>0</td>\n",
              "      <td>51.0</td>\n",
              "      <td>Mobile Phone</td>\n",
              "      <td>1</td>\n",
              "      <td>7.0</td>\n",
              "      <td>Debit Card</td>\n",
              "      <td>Male</td>\n",
              "      <td>4.0</td>\n",
              "      <td>2</td>\n",
              "      <td>Laptop &amp; Accessory</td>\n",
              "      <td>3</td>\n",
              "      <td>Divorced</td>\n",
              "      <td>2</td>\n",
              "      <td>0</td>\n",
              "      <td>25.0</td>\n",
              "      <td>2.0</td>\n",
              "      <td>3.0</td>\n",
              "      <td>9.0</td>\n",
              "      <td>174.0</td>\n",
              "    </tr>\n",
              "    <tr>\n",
              "      <th>5534</th>\n",
              "      <td>55535</td>\n",
              "      <td>0</td>\n",
              "      <td>61.0</td>\n",
              "      <td>Mobile Phone</td>\n",
              "      <td>3</td>\n",
              "      <td>28.0</td>\n",
              "      <td>Debit Card</td>\n",
              "      <td>Female</td>\n",
              "      <td>4.0</td>\n",
              "      <td>4</td>\n",
              "      <td>Grocery</td>\n",
              "      <td>1</td>\n",
              "      <td>Married</td>\n",
              "      <td>6</td>\n",
              "      <td>1</td>\n",
              "      <td>13.0</td>\n",
              "      <td>1.0</td>\n",
              "      <td>2.0</td>\n",
              "      <td>1.0</td>\n",
              "      <td>303.75</td>\n",
              "    </tr>\n",
              "  </tbody>\n",
              "</table>\n",
              "</div>\n",
              "      <button class=\"colab-df-convert\" onclick=\"convertToInteractive('df-5f13de73-072f-43f1-b441-41eeb38b2ce7')\"\n",
              "              title=\"Convert this dataframe to an interactive table.\"\n",
              "              style=\"display:none;\">\n",
              "        \n",
              "  <svg xmlns=\"http://www.w3.org/2000/svg\" height=\"24px\"viewBox=\"0 0 24 24\"\n",
              "       width=\"24px\">\n",
              "    <path d=\"M0 0h24v24H0V0z\" fill=\"none\"/>\n",
              "    <path d=\"M18.56 5.44l.94 2.06.94-2.06 2.06-.94-2.06-.94-.94-2.06-.94 2.06-2.06.94zm-11 1L8.5 8.5l.94-2.06 2.06-.94-2.06-.94L8.5 2.5l-.94 2.06-2.06.94zm10 10l.94 2.06.94-2.06 2.06-.94-2.06-.94-.94-2.06-.94 2.06-2.06.94z\"/><path d=\"M17.41 7.96l-1.37-1.37c-.4-.4-.92-.59-1.43-.59-.52 0-1.04.2-1.43.59L10.3 9.45l-7.72 7.72c-.78.78-.78 2.05 0 2.83L4 21.41c.39.39.9.59 1.41.59.51 0 1.02-.2 1.41-.59l7.78-7.78 2.81-2.81c.8-.78.8-2.07 0-2.86zM5.41 20L4 18.59l7.72-7.72 1.47 1.35L5.41 20z\"/>\n",
              "  </svg>\n",
              "      </button>\n",
              "      \n",
              "  <style>\n",
              "    .colab-df-container {\n",
              "      display:flex;\n",
              "      flex-wrap:wrap;\n",
              "      gap: 12px;\n",
              "    }\n",
              "\n",
              "    .colab-df-convert {\n",
              "      background-color: #E8F0FE;\n",
              "      border: none;\n",
              "      border-radius: 50%;\n",
              "      cursor: pointer;\n",
              "      display: none;\n",
              "      fill: #1967D2;\n",
              "      height: 32px;\n",
              "      padding: 0 0 0 0;\n",
              "      width: 32px;\n",
              "    }\n",
              "\n",
              "    .colab-df-convert:hover {\n",
              "      background-color: #E2EBFA;\n",
              "      box-shadow: 0px 1px 2px rgba(60, 64, 67, 0.3), 0px 1px 3px 1px rgba(60, 64, 67, 0.15);\n",
              "      fill: #174EA6;\n",
              "    }\n",
              "\n",
              "    [theme=dark] .colab-df-convert {\n",
              "      background-color: #3B4455;\n",
              "      fill: #D2E3FC;\n",
              "    }\n",
              "\n",
              "    [theme=dark] .colab-df-convert:hover {\n",
              "      background-color: #434B5C;\n",
              "      box-shadow: 0px 1px 3px 1px rgba(0, 0, 0, 0.15);\n",
              "      filter: drop-shadow(0px 1px 2px rgba(0, 0, 0, 0.3));\n",
              "      fill: #FFFFFF;\n",
              "    }\n",
              "  </style>\n",
              "\n",
              "      <script>\n",
              "        const buttonEl =\n",
              "          document.querySelector('#df-5f13de73-072f-43f1-b441-41eeb38b2ce7 button.colab-df-convert');\n",
              "        buttonEl.style.display =\n",
              "          google.colab.kernel.accessAllowed ? 'block' : 'none';\n",
              "\n",
              "        async function convertToInteractive(key) {\n",
              "          const element = document.querySelector('#df-5f13de73-072f-43f1-b441-41eeb38b2ce7');\n",
              "          const dataTable =\n",
              "            await google.colab.kernel.invokeFunction('convertToInteractive',\n",
              "                                                     [key], {});\n",
              "          if (!dataTable) return;\n",
              "\n",
              "          const docLinkHtml = 'Like what you see? Visit the ' +\n",
              "            '<a target=\"_blank\" href=https://colab.research.google.com/notebooks/data_table.ipynb>data table notebook</a>'\n",
              "            + ' to learn more about interactive tables.';\n",
              "          element.innerHTML = '';\n",
              "          dataTable['output_type'] = 'display_data';\n",
              "          await google.colab.output.renderOutput(dataTable, element);\n",
              "          const docLink = document.createElement('div');\n",
              "          docLink.innerHTML = docLinkHtml;\n",
              "          element.appendChild(docLink);\n",
              "        }\n",
              "      </script>\n",
              "    </div>\n",
              "  </div>\n",
              "  "
            ]
          },
          "metadata": {},
          "execution_count": 13
        }
      ]
    },
    {
      "cell_type": "markdown",
      "source": [
        "Drop outliers(**Tenure)**"
      ],
      "metadata": {
        "id": "s_N8RytaP2aN"
      }
    },
    {
      "cell_type": "code",
      "source": [
        "df2=df2[(df2['Tenure']<=limit[1])&(df2['Tenure']>=limit[0])]\n",
        "df2.shape\n"
      ],
      "metadata": {
        "colab": {
          "base_uri": "https://localhost:8080/"
        },
        "id": "OwBKS7iuAgX7",
        "outputId": "156b2466-b9c5-49fb-abff-4acc2e3c9962"
      },
      "execution_count": null,
      "outputs": [
        {
          "output_type": "execute_result",
          "data": {
            "text/plain": [
              "(5626, 20)"
            ]
          },
          "metadata": {},
          "execution_count": 14
        }
      ]
    },
    {
      "cell_type": "code",
      "source": [
        "\n",
        "d=df2[(df2['Churn']==0)].groupby(['Gender']).count()\n",
        "plt.bar(d.index, d.Churn)\n",
        "d\n"
      ],
      "metadata": {
        "colab": {
          "base_uri": "https://localhost:8080/",
          "height": 455
        },
        "id": "s2KeItoOypXR",
        "outputId": "1ac11717-540f-422b-8b57-08258a3342a1"
      },
      "execution_count": null,
      "outputs": [
        {
          "output_type": "execute_result",
          "data": {
            "text/plain": [
              "        CustomerID  Churn  Tenure  PreferredLoginDevice  CityTier  \\\n",
              "Gender                                                              \n",
              "Female        1896   1896    1896                  1896      1896   \n",
              "Male          2782   2782    2782                  2782      2782   \n",
              "\n",
              "        WarehouseToHome  PreferredPaymentMode  HourSpendOnApp  \\\n",
              "Gender                                                          \n",
              "Female             1896                  1896            1896   \n",
              "Male               2782                  2782            2782   \n",
              "\n",
              "        NumberOfDeviceRegistered  PreferedOrderCat  SatisfactionScore  \\\n",
              "Gender                                                                  \n",
              "Female                      1896              1896               1896   \n",
              "Male                        2782              2782               2782   \n",
              "\n",
              "        MaritalStatus  NumberOfAddress  Complain  OrderAmountHikeFromlastYear  \\\n",
              "Gender                                                                          \n",
              "Female           1896             1896      1896                         1896   \n",
              "Male             2782             2782      2782                         2782   \n",
              "\n",
              "        CouponUsed  OrderCount  DaySinceLastOrder  CashbackAmount  \n",
              "Gender                                                             \n",
              "Female        1896        1896               1896            1896  \n",
              "Male          2782        2782               2782            2782  "
            ],
            "text/html": [
              "\n",
              "  <div id=\"df-fe0d29a1-4f97-4052-8e46-dbf168c1dd80\">\n",
              "    <div class=\"colab-df-container\">\n",
              "      <div>\n",
              "<style scoped>\n",
              "    .dataframe tbody tr th:only-of-type {\n",
              "        vertical-align: middle;\n",
              "    }\n",
              "\n",
              "    .dataframe tbody tr th {\n",
              "        vertical-align: top;\n",
              "    }\n",
              "\n",
              "    .dataframe thead th {\n",
              "        text-align: right;\n",
              "    }\n",
              "</style>\n",
              "<table border=\"1\" class=\"dataframe\">\n",
              "  <thead>\n",
              "    <tr style=\"text-align: right;\">\n",
              "      <th></th>\n",
              "      <th>CustomerID</th>\n",
              "      <th>Churn</th>\n",
              "      <th>Tenure</th>\n",
              "      <th>PreferredLoginDevice</th>\n",
              "      <th>CityTier</th>\n",
              "      <th>WarehouseToHome</th>\n",
              "      <th>PreferredPaymentMode</th>\n",
              "      <th>HourSpendOnApp</th>\n",
              "      <th>NumberOfDeviceRegistered</th>\n",
              "      <th>PreferedOrderCat</th>\n",
              "      <th>SatisfactionScore</th>\n",
              "      <th>MaritalStatus</th>\n",
              "      <th>NumberOfAddress</th>\n",
              "      <th>Complain</th>\n",
              "      <th>OrderAmountHikeFromlastYear</th>\n",
              "      <th>CouponUsed</th>\n",
              "      <th>OrderCount</th>\n",
              "      <th>DaySinceLastOrder</th>\n",
              "      <th>CashbackAmount</th>\n",
              "    </tr>\n",
              "    <tr>\n",
              "      <th>Gender</th>\n",
              "      <th></th>\n",
              "      <th></th>\n",
              "      <th></th>\n",
              "      <th></th>\n",
              "      <th></th>\n",
              "      <th></th>\n",
              "      <th></th>\n",
              "      <th></th>\n",
              "      <th></th>\n",
              "      <th></th>\n",
              "      <th></th>\n",
              "      <th></th>\n",
              "      <th></th>\n",
              "      <th></th>\n",
              "      <th></th>\n",
              "      <th></th>\n",
              "      <th></th>\n",
              "      <th></th>\n",
              "      <th></th>\n",
              "    </tr>\n",
              "  </thead>\n",
              "  <tbody>\n",
              "    <tr>\n",
              "      <th>Female</th>\n",
              "      <td>1896</td>\n",
              "      <td>1896</td>\n",
              "      <td>1896</td>\n",
              "      <td>1896</td>\n",
              "      <td>1896</td>\n",
              "      <td>1896</td>\n",
              "      <td>1896</td>\n",
              "      <td>1896</td>\n",
              "      <td>1896</td>\n",
              "      <td>1896</td>\n",
              "      <td>1896</td>\n",
              "      <td>1896</td>\n",
              "      <td>1896</td>\n",
              "      <td>1896</td>\n",
              "      <td>1896</td>\n",
              "      <td>1896</td>\n",
              "      <td>1896</td>\n",
              "      <td>1896</td>\n",
              "      <td>1896</td>\n",
              "    </tr>\n",
              "    <tr>\n",
              "      <th>Male</th>\n",
              "      <td>2782</td>\n",
              "      <td>2782</td>\n",
              "      <td>2782</td>\n",
              "      <td>2782</td>\n",
              "      <td>2782</td>\n",
              "      <td>2782</td>\n",
              "      <td>2782</td>\n",
              "      <td>2782</td>\n",
              "      <td>2782</td>\n",
              "      <td>2782</td>\n",
              "      <td>2782</td>\n",
              "      <td>2782</td>\n",
              "      <td>2782</td>\n",
              "      <td>2782</td>\n",
              "      <td>2782</td>\n",
              "      <td>2782</td>\n",
              "      <td>2782</td>\n",
              "      <td>2782</td>\n",
              "      <td>2782</td>\n",
              "    </tr>\n",
              "  </tbody>\n",
              "</table>\n",
              "</div>\n",
              "      <button class=\"colab-df-convert\" onclick=\"convertToInteractive('df-fe0d29a1-4f97-4052-8e46-dbf168c1dd80')\"\n",
              "              title=\"Convert this dataframe to an interactive table.\"\n",
              "              style=\"display:none;\">\n",
              "        \n",
              "  <svg xmlns=\"http://www.w3.org/2000/svg\" height=\"24px\"viewBox=\"0 0 24 24\"\n",
              "       width=\"24px\">\n",
              "    <path d=\"M0 0h24v24H0V0z\" fill=\"none\"/>\n",
              "    <path d=\"M18.56 5.44l.94 2.06.94-2.06 2.06-.94-2.06-.94-.94-2.06-.94 2.06-2.06.94zm-11 1L8.5 8.5l.94-2.06 2.06-.94-2.06-.94L8.5 2.5l-.94 2.06-2.06.94zm10 10l.94 2.06.94-2.06 2.06-.94-2.06-.94-.94-2.06-.94 2.06-2.06.94z\"/><path d=\"M17.41 7.96l-1.37-1.37c-.4-.4-.92-.59-1.43-.59-.52 0-1.04.2-1.43.59L10.3 9.45l-7.72 7.72c-.78.78-.78 2.05 0 2.83L4 21.41c.39.39.9.59 1.41.59.51 0 1.02-.2 1.41-.59l7.78-7.78 2.81-2.81c.8-.78.8-2.07 0-2.86zM5.41 20L4 18.59l7.72-7.72 1.47 1.35L5.41 20z\"/>\n",
              "  </svg>\n",
              "      </button>\n",
              "      \n",
              "  <style>\n",
              "    .colab-df-container {\n",
              "      display:flex;\n",
              "      flex-wrap:wrap;\n",
              "      gap: 12px;\n",
              "    }\n",
              "\n",
              "    .colab-df-convert {\n",
              "      background-color: #E8F0FE;\n",
              "      border: none;\n",
              "      border-radius: 50%;\n",
              "      cursor: pointer;\n",
              "      display: none;\n",
              "      fill: #1967D2;\n",
              "      height: 32px;\n",
              "      padding: 0 0 0 0;\n",
              "      width: 32px;\n",
              "    }\n",
              "\n",
              "    .colab-df-convert:hover {\n",
              "      background-color: #E2EBFA;\n",
              "      box-shadow: 0px 1px 2px rgba(60, 64, 67, 0.3), 0px 1px 3px 1px rgba(60, 64, 67, 0.15);\n",
              "      fill: #174EA6;\n",
              "    }\n",
              "\n",
              "    [theme=dark] .colab-df-convert {\n",
              "      background-color: #3B4455;\n",
              "      fill: #D2E3FC;\n",
              "    }\n",
              "\n",
              "    [theme=dark] .colab-df-convert:hover {\n",
              "      background-color: #434B5C;\n",
              "      box-shadow: 0px 1px 3px 1px rgba(0, 0, 0, 0.15);\n",
              "      filter: drop-shadow(0px 1px 2px rgba(0, 0, 0, 0.3));\n",
              "      fill: #FFFFFF;\n",
              "    }\n",
              "  </style>\n",
              "\n",
              "      <script>\n",
              "        const buttonEl =\n",
              "          document.querySelector('#df-fe0d29a1-4f97-4052-8e46-dbf168c1dd80 button.colab-df-convert');\n",
              "        buttonEl.style.display =\n",
              "          google.colab.kernel.accessAllowed ? 'block' : 'none';\n",
              "\n",
              "        async function convertToInteractive(key) {\n",
              "          const element = document.querySelector('#df-fe0d29a1-4f97-4052-8e46-dbf168c1dd80');\n",
              "          const dataTable =\n",
              "            await google.colab.kernel.invokeFunction('convertToInteractive',\n",
              "                                                     [key], {});\n",
              "          if (!dataTable) return;\n",
              "\n",
              "          const docLinkHtml = 'Like what you see? Visit the ' +\n",
              "            '<a target=\"_blank\" href=https://colab.research.google.com/notebooks/data_table.ipynb>data table notebook</a>'\n",
              "            + ' to learn more about interactive tables.';\n",
              "          element.innerHTML = '';\n",
              "          dataTable['output_type'] = 'display_data';\n",
              "          await google.colab.output.renderOutput(dataTable, element);\n",
              "          const docLink = document.createElement('div');\n",
              "          docLink.innerHTML = docLinkHtml;\n",
              "          element.appendChild(docLink);\n",
              "        }\n",
              "      </script>\n",
              "    </div>\n",
              "  </div>\n",
              "  "
            ]
          },
          "metadata": {},
          "execution_count": 15
        },
        {
          "output_type": "display_data",
          "data": {
            "text/plain": [
              "<Figure size 432x288 with 1 Axes>"
            ],
            "image/png": "[encoded data removed]"
          },
          "metadata": {
            "needs_background": "light"
          }
        }
      ]
    },
    {
      "cell_type": "code",
      "source": [
        "d2=df2[(df2['Churn']==1)].groupby(['Gender']).count()\n",
        "plt.bar(d2.index, d2.Churn)\n",
        "d2"
      ],
      "metadata": {
        "colab": {
          "base_uri": "https://localhost:8080/",
          "height": 455
        },
        "id": "KPRJNgyhj1Yf",
        "outputId": "b28df70b-4ca5-43b3-880a-a2bc9ff72c08"
      },
      "execution_count": null,
      "outputs": [
        {
          "output_type": "execute_result",
          "data": {
            "text/plain": [
              "        CustomerID  Churn  Tenure  PreferredLoginDevice  CityTier  \\\n",
              "Gender                                                              \n",
              "Female         348    348     348                   348       348   \n",
              "Male           600    600     600                   600       600   \n",
              "\n",
              "        WarehouseToHome  PreferredPaymentMode  HourSpendOnApp  \\\n",
              "Gender                                                          \n",
              "Female              348                   348             348   \n",
              "Male                600                   600             600   \n",
              "\n",
              "        NumberOfDeviceRegistered  PreferedOrderCat  SatisfactionScore  \\\n",
              "Gender                                                                  \n",
              "Female                       348               348                348   \n",
              "Male                         600               600                600   \n",
              "\n",
              "        MaritalStatus  NumberOfAddress  Complain  OrderAmountHikeFromlastYear  \\\n",
              "Gender                                                                          \n",
              "Female            348              348       348                          348   \n",
              "Male              600              600       600                          600   \n",
              "\n",
              "        CouponUsed  OrderCount  DaySinceLastOrder  CashbackAmount  \n",
              "Gender                                                             \n",
              "Female         348         348                348             348  \n",
              "Male           600         600                600             600  "
            ],
            "text/html": [
              "\n",
              "  <div id=\"df-f59770eb-40f3-4a27-bd29-6ced7892e4dc\">\n",
              "    <div class=\"colab-df-container\">\n",
              "      <div>\n",
              "<style scoped>\n",
              "    .dataframe tbody tr th:only-of-type {\n",
              "        vertical-align: middle;\n",
              "    }\n",
              "\n",
              "    .dataframe tbody tr th {\n",
              "        vertical-align: top;\n",
              "    }\n",
              "\n",
              "    .dataframe thead th {\n",
              "        text-align: right;\n",
              "    }\n",
              "</style>\n",
              "<table border=\"1\" class=\"dataframe\">\n",
              "  <thead>\n",
              "    <tr style=\"text-align: right;\">\n",
              "      <th></th>\n",
              "      <th>CustomerID</th>\n",
              "      <th>Churn</th>\n",
              "      <th>Tenure</th>\n",
              "      <th>PreferredLoginDevice</th>\n",
              "      <th>CityTier</th>\n",
              "      <th>WarehouseToHome</th>\n",
              "      <th>PreferredPaymentMode</th>\n",
              "      <th>HourSpendOnApp</th>\n",
              "      <th>NumberOfDeviceRegistered</th>\n",
              "      <th>PreferedOrderCat</th>\n",
              "      <th>SatisfactionScore</th>\n",
              "      <th>MaritalStatus</th>\n",
              "      <th>NumberOfAddress</th>\n",
              "      <th>Complain</th>\n",
              "      <th>OrderAmountHikeFromlastYear</th>\n",
              "      <th>CouponUsed</th>\n",
              "      <th>OrderCount</th>\n",
              "      <th>DaySinceLastOrder</th>\n",
              "      <th>CashbackAmount</th>\n",
              "    </tr>\n",
              "    <tr>\n",
              "      <th>Gender</th>\n",
              "      <th></th>\n",
              "      <th></th>\n",
              "      <th></th>\n",
              "      <th></th>\n",
              "      <th></th>\n",
              "      <th></th>\n",
              "      <th></th>\n",
              "      <th></th>\n",
              "      <th></th>\n",
              "      <th></th>\n",
              "      <th></th>\n",
              "      <th></th>\n",
              "      <th></th>\n",
              "      <th></th>\n",
              "      <th></th>\n",
              "      <th></th>\n",
              "      <th></th>\n",
              "      <th></th>\n",
              "      <th></th>\n",
              "    </tr>\n",
              "  </thead>\n",
              "  <tbody>\n",
              "    <tr>\n",
              "      <th>Female</th>\n",
              "      <td>348</td>\n",
              "      <td>348</td>\n",
              "      <td>348</td>\n",
              "      <td>348</td>\n",
              "      <td>348</td>\n",
              "      <td>348</td>\n",
              "      <td>348</td>\n",
              "      <td>348</td>\n",
              "      <td>348</td>\n",
              "      <td>348</td>\n",
              "      <td>348</td>\n",
              "      <td>348</td>\n",
              "      <td>348</td>\n",
              "      <td>348</td>\n",
              "      <td>348</td>\n",
              "      <td>348</td>\n",
              "      <td>348</td>\n",
              "      <td>348</td>\n",
              "      <td>348</td>\n",
              "    </tr>\n",
              "    <tr>\n",
              "      <th>Male</th>\n",
              "      <td>600</td>\n",
              "      <td>600</td>\n",
              "      <td>600</td>\n",
              "      <td>600</td>\n",
              "      <td>600</td>\n",
              "      <td>600</td>\n",
              "      <td>600</td>\n",
              "      <td>600</td>\n",
              "      <td>600</td>\n",
              "      <td>600</td>\n",
              "      <td>600</td>\n",
              "      <td>600</td>\n",
              "      <td>600</td>\n",
              "      <td>600</td>\n",
              "      <td>600</td>\n",
              "      <td>600</td>\n",
              "      <td>600</td>\n",
              "      <td>600</td>\n",
              "      <td>600</td>\n",
              "    </tr>\n",
              "  </tbody>\n",
              "</table>\n",
              "</div>\n",
              "      <button class=\"colab-df-convert\" onclick=\"convertToInteractive('df-f59770eb-40f3-4a27-bd29-6ced7892e4dc')\"\n",
              "              title=\"Convert this dataframe to an interactive table.\"\n",
              "              style=\"display:none;\">\n",
              "        \n",
              "  <svg xmlns=\"http://www.w3.org/2000/svg\" height=\"24px\"viewBox=\"0 0 24 24\"\n",
              "       width=\"24px\">\n",
              "    <path d=\"M0 0h24v24H0V0z\" fill=\"none\"/>\n",
              "    <path d=\"M18.56 5.44l.94 2.06.94-2.06 2.06-.94-2.06-.94-.94-2.06-.94 2.06-2.06.94zm-11 1L8.5 8.5l.94-2.06 2.06-.94-2.06-.94L8.5 2.5l-.94 2.06-2.06.94zm10 10l.94 2.06.94-2.06 2.06-.94-2.06-.94-.94-2.06-.94 2.06-2.06.94z\"/><path d=\"M17.41 7.96l-1.37-1.37c-.4-.4-.92-.59-1.43-.59-.52 0-1.04.2-1.43.59L10.3 9.45l-7.72 7.72c-.78.78-.78 2.05 0 2.83L4 21.41c.39.39.9.59 1.41.59.51 0 1.02-.2 1.41-.59l7.78-7.78 2.81-2.81c.8-.78.8-2.07 0-2.86zM5.41 20L4 18.59l7.72-7.72 1.47 1.35L5.41 20z\"/>\n",
              "  </svg>\n",
              "      </button>\n",
              "      \n",
              "  <style>\n",
              "    .colab-df-container {\n",
              "      display:flex;\n",
              "      flex-wrap:wrap;\n",
              "      gap: 12px;\n",
              "    }\n",
              "\n",
              "    .colab-df-convert {\n",
              "      background-color: #E8F0FE;\n",
              "      border: none;\n",
              "      border-radius: 50%;\n",
              "      cursor: pointer;\n",
              "      display: none;\n",
              "      fill: #1967D2;\n",
              "      height: 32px;\n",
              "      padding: 0 0 0 0;\n",
              "      width: 32px;\n",
              "    }\n",
              "\n",
              "    .colab-df-convert:hover {\n",
              "      background-color: #E2EBFA;\n",
              "      box-shadow: 0px 1px 2px rgba(60, 64, 67, 0.3), 0px 1px 3px 1px rgba(60, 64, 67, 0.15);\n",
              "      fill: #174EA6;\n",
              "    }\n",
              "\n",
              "    [theme=dark] .colab-df-convert {\n",
              "      background-color: #3B4455;\n",
              "      fill: #D2E3FC;\n",
              "    }\n",
              "\n",
              "    [theme=dark] .colab-df-convert:hover {\n",
              "      background-color: #434B5C;\n",
              "      box-shadow: 0px 1px 3px 1px rgba(0, 0, 0, 0.15);\n",
              "      filter: drop-shadow(0px 1px 2px rgba(0, 0, 0, 0.3));\n",
              "      fill: #FFFFFF;\n",
              "    }\n",
              "  </style>\n",
              "\n",
              "      <script>\n",
              "        const buttonEl =\n",
              "          document.querySelector('#df-f59770eb-40f3-4a27-bd29-6ced7892e4dc button.colab-df-convert');\n",
              "        buttonEl.style.display =\n",
              "          google.colab.kernel.accessAllowed ? 'block' : 'none';\n",
              "\n",
              "        async function convertToInteractive(key) {\n",
              "          const element = document.querySelector('#df-f59770eb-40f3-4a27-bd29-6ced7892e4dc');\n",
              "          const dataTable =\n",
              "            await google.colab.kernel.invokeFunction('convertToInteractive',\n",
              "                                                     [key], {});\n",
              "          if (!dataTable) return;\n",
              "\n",
              "          const docLinkHtml = 'Like what you see? Visit the ' +\n",
              "            '<a target=\"_blank\" href=https://colab.research.google.com/notebooks/data_table.ipynb>data table notebook</a>'\n",
              "            + ' to learn more about interactive tables.';\n",
              "          element.innerHTML = '';\n",
              "          dataTable['output_type'] = 'display_data';\n",
              "          await google.colab.output.renderOutput(dataTable, element);\n",
              "          const docLink = document.createElement('div');\n",
              "          docLink.innerHTML = docLinkHtml;\n",
              "          element.appendChild(docLink);\n",
              "        }\n",
              "      </script>\n",
              "    </div>\n",
              "  </div>\n",
              "  "
            ]
          },
          "metadata": {},
          "execution_count": 16
        },
        {
          "output_type": "display_data",
          "data": {
            "text/plain": [
              "<Figure size 432x288 with 1 Axes>"
            ],
            "image/png": "[encoded data removed]"
          },
          "metadata": {
            "needs_background": "light"
          }
        }
      ]
    },
    {
      "cell_type": "code",
      "source": [
        "d3=df2[(df2['Churn']==1)].groupby(['Gender','MaritalStatus']).count()\n",
        "plt.pie(d3.Churn, labels = d3.index)\n",
        "plt.show()\n",
        "d3['Churn']"
      ],
      "metadata": {
        "colab": {
          "base_uri": "https://localhost:8080/",
          "height": 387
        },
        "id": "r8Z-vYoYll-f",
        "outputId": "7c1dab1f-a903-49dc-a835-15f5cc44877c"
      },
      "execution_count": null,
      "outputs": [
        {
          "output_type": "display_data",
          "data": {
            "text/plain": [
              "<Figure size 432x288 with 1 Axes>"
            ],
            "image/png": "[encoded data removed]"
          },
          "metadata": {}
        },
        {
          "output_type": "execute_result",
          "data": {
            "text/plain": [
              "Gender  MaritalStatus\n",
              "Female  Divorced          48\n",
              "        Married          112\n",
              "        Single           188\n",
              "Male    Divorced          76\n",
              "        Married          232\n",
              "        Single           292\n",
              "Name: Churn, dtype: int64"
            ]
          },
          "metadata": {},
          "execution_count": 17
        }
      ]
    },
    {
      "cell_type": "code",
      "source": [
        "d4=df2[(df2['Churn']==0)].groupby(['Gender','MaritalStatus']).count()\n",
        "plt.pie(d4.Churn, labels = d4.index)\n",
        "plt.show()\n",
        "d4['Churn']"
      ],
      "metadata": {
        "colab": {
          "base_uri": "https://localhost:8080/",
          "height": 387
        },
        "id": "mMVygL99oMR0",
        "outputId": "c3fab953-be11-4e94-8cf9-94a53610d7ea"
      },
      "execution_count": null,
      "outputs": [
        {
          "output_type": "display_data",
          "data": {
            "text/plain": [
              "<Figure size 432x288 with 1 Axes>"
            ],
            "image/png": "[encoded data removed]"
          },
          "metadata": {}
        },
        {
          "output_type": "execute_result",
          "data": {
            "text/plain": [
              "Gender  MaritalStatus\n",
              "Female  Divorced          300\n",
              "        Married          1026\n",
              "        Single            570\n",
              "Male    Divorced          422\n",
              "        Married          1614\n",
              "        Single            746\n",
              "Name: Churn, dtype: int64"
            ]
          },
          "metadata": {},
          "execution_count": 18
        }
      ]
    },
    {
      "cell_type": "code",
      "source": [
        "d5=df2[(df2['Complain']==1)].groupby(['PreferedOrderCat']).count()\n",
        "d5=d5.sort_values('Complain')\n",
        "plt.barh(d5.index, d5.Complain)\n",
        "plt.show()"
      ],
      "metadata": {
        "colab": {
          "base_uri": "https://localhost:8080/",
          "height": 265
        },
        "id": "lZeQQwwVpXgG",
        "outputId": "a054cbcf-27dc-494b-e103-729668211d4c"
      },
      "execution_count": null,
      "outputs": [
        {
          "output_type": "display_data",
          "data": {
            "text/plain": [
              "<Figure size 432x288 with 1 Axes>"
            ],
            "image/png": "[encoded data removed]"
          },
          "metadata": {
            "needs_background": "light"
          }
        }
      ]
    },
    {
      "cell_type": "code",
      "source": [
        "labels = df['PreferredPaymentMode'].unique()\n",
        "values = df['PreferredPaymentMode'].value_counts()\n",
        "plt.barh(labels, values)\n",
        "plt.show()"
      ],
      "metadata": {
        "colab": {
          "base_uri": "https://localhost:8080/",
          "height": 265
        },
        "id": "XiWUiZ-Py99-",
        "outputId": "09aa61cf-5779-4015-e6c7-9f419d83819c"
      },
      "execution_count": null,
      "outputs": [
        {
          "output_type": "display_data",
          "data": {
            "text/plain": [
              "<Figure size 432x288 with 1 Axes>"
            ],
            "image/png": "[encoded data removed]"
          },
          "metadata": {
            "needs_background": "light"
          }
        }
      ]
    },
    {
      "cell_type": "code",
      "source": [
        "d6=df2[(df2['Churn']==1)].groupby(['PreferredPaymentMode']).count()\n",
        "d6=d6.sort_values('Complain')\n",
        "plt.barh(d6.index, d6.Complain)\n",
        "plt.show()"
      ],
      "metadata": {
        "colab": {
          "base_uri": "https://localhost:8080/",
          "height": 265
        },
        "id": "tbbya8dT1UO_",
        "outputId": "6f99bfd6-0709-45f4-b29e-0e8248c28a7e"
      },
      "execution_count": null,
      "outputs": [
        {
          "output_type": "display_data",
          "data": {
            "text/plain": [
              "<Figure size 432x288 with 1 Axes>"
            ],
            "image/png": "[encoded data removed]"
          },
          "metadata": {
            "needs_background": "light"
          }
        }
      ]
    },
    {
      "cell_type": "code",
      "source": [
        "d7=df2[(df2['Churn']==1)].groupby(['PreferedOrderCat']).count()\n",
        "plt.barh(d7.index, d7.Complain)\n",
        "plt.show()\n"
      ],
      "metadata": {
        "colab": {
          "base_uri": "https://localhost:8080/",
          "height": 265
        },
        "id": "NVGhfmZc2sRP",
        "outputId": "9e298e33-99f4-4854-bea1-a95cd0887adc"
      },
      "execution_count": null,
      "outputs": [
        {
          "output_type": "display_data",
          "data": {
            "text/plain": [
              "<Figure size 432x288 with 1 Axes>"
            ],
            "image/png": "[encoded data removed]"
          },
          "metadata": {
            "needs_background": "light"
          }
        }
      ]
    },
    {
      "cell_type": "code",
      "source": [
        "d8=df2.groupby(['Churn','Complain','Gender']).count()\n",
        "d8['CustomerID']"
      ],
      "metadata": {
        "colab": {
          "base_uri": "https://localhost:8080/"
        },
        "id": "FP60Hiea3-MX",
        "outputId": "989511ef-f5f9-4e2a-ebbc-c16682e52d56"
      },
      "execution_count": null,
      "outputs": [
        {
          "output_type": "execute_result",
          "data": {
            "text/plain": [
              "Churn  Complain  Gender\n",
              "0      0         Female    1396\n",
              "                 Male      2188\n",
              "       1         Female     500\n",
              "                 Male       594\n",
              "1      0         Female     160\n",
              "                 Male       280\n",
              "       1         Female     188\n",
              "                 Male       320\n",
              "Name: CustomerID, dtype: int64"
            ]
          },
          "metadata": {},
          "execution_count": 23
        }
      ]
    },
    {
      "cell_type": "markdown",
      "source": [
        "Encoding"
      ],
      "metadata": {
        "id": "mRwPw2bT7hQX"
      }
    },
    {
      "cell_type": "code",
      "source": [
        "l=list(df2.columns)\n",
        "df2['PreferredLoginDevice'].unique()\n",
        "x=pd.get_dummies(df2,columns=['PreferredLoginDevice','Gender','PreferredPaymentMode','PreferedOrderCat','MaritalStatus' ])\n",
        "l=list(x.columns)\n",
        "x[l]=x[l].apply(pd.to_numeric)\n",
        "x.dtypes\n",
        "\n",
        "\n"
      ],
      "metadata": {
        "colab": {
          "base_uri": "https://localhost:8080/"
        },
        "id": "hIKnTUyx5Y_O",
        "outputId": "6036daf8-ba62-48ba-9bf5-9392430f52fa"
      },
      "execution_count": null,
      "outputs": [
        {
          "output_type": "execute_result",
          "data": {
            "text/plain": [
              "CustomerID                                 int64\n",
              "Churn                                      int64\n",
              "Tenure                                   float64\n",
              "CityTier                                   int64\n",
              "WarehouseToHome                          float64\n",
              "HourSpendOnApp                           float64\n",
              "NumberOfDeviceRegistered                   int64\n",
              "SatisfactionScore                          int64\n",
              "NumberOfAddress                            int64\n",
              "Complain                                   int64\n",
              "OrderAmountHikeFromlastYear              float64\n",
              "CouponUsed                               float64\n",
              "OrderCount                               float64\n",
              "DaySinceLastOrder                        float64\n",
              "CashbackAmount                           float64\n",
              "PreferredLoginDevice_Computer              uint8\n",
              "PreferredLoginDevice_Mobile Phone          uint8\n",
              "PreferredLoginDevice_Phone                 uint8\n",
              "Gender_Female                              uint8\n",
              "Gender_Male                                uint8\n",
              "PreferredPaymentMode_CC                    uint8\n",
              "PreferredPaymentMode_COD                   uint8\n",
              "PreferredPaymentMode_Cash on Delivery      uint8\n",
              "PreferredPaymentMode_Credit Card           uint8\n",
              "PreferredPaymentMode_Debit Card            uint8\n",
              "PreferredPaymentMode_E wallet              uint8\n",
              "PreferredPaymentMode_UPI                   uint8\n",
              "PreferedOrderCat_Fashion                   uint8\n",
              "PreferedOrderCat_Grocery                   uint8\n",
              "PreferedOrderCat_Laptop & Accessory        uint8\n",
              "PreferedOrderCat_Mobile                    uint8\n",
              "PreferedOrderCat_Mobile Phone              uint8\n",
              "PreferedOrderCat_Others                    uint8\n",
              "MaritalStatus_Divorced                     uint8\n",
              "MaritalStatus_Married                      uint8\n",
              "MaritalStatus_Single                       uint8\n",
              "dtype: object"
            ]
          },
          "metadata": {},
          "execution_count": 24
        }
      ]
    },
    {
      "cell_type": "markdown",
      "source": [
        "**Split Train Test**"
      ],
      "metadata": {
        "id": "WabbdAln8Eod"
      }
    },
    {
      "cell_type": "code",
      "source": [
        "from sklearn.model_selection import train_test_split\n",
        "from sklearn.metrics import accuracy_score,classification_report\n",
        "import matplotlib.pyplot as plt\n",
        "from sklearn.neighbors import KNeighborsClassifier\n",
        "import xgboost as xgb\n",
        "y=df2['Churn']\n",
        "y=y.apply(pd.to_numeric)\n",
        "x=x.drop(['Churn'],axis=1)\n",
        "x[[\"CustomerID\", \"Tenure\", \"CityTier\", \"WarehouseToHome\", \"HourSpendOnApp\", \"NumberOfDeviceRegistered\", \"SatisfactionScore\", \"NumberOfAddress\", \"Complain\", \"OrderAmountHikeFromlastYear\", \"CouponUsed\", \"OrderCount\", \"DaySinceLastOrder\", \"CashbackAmount\"]] = x[[\"CustomerID\", \"Tenure\", \"CityTier\", \"WarehouseToHome\", \"HourSpendOnApp\", \"NumberOfDeviceRegistered\", \"SatisfactionScore\", \"NumberOfAddress\", \"Complain\", \"OrderAmountHikeFromlastYear\", \"CouponUsed\", \"OrderCount\", \"DaySinceLastOrder\", \"CashbackAmount\"]].apply(pd.to_numeric)\n",
        "x_train, x_test, y_train, y_test = train_test_split(x, y, test_size=0.2,random_state=0)\n",
        "xgb_classifier = xgb.XGBClassifier()\n",
        "xgb_classifier.fit(x_train,y_train)\n",
        "predictions = xgb_classifier.predict(x_test)\n",
        "print(\"Accuracy of Model::\",accuracy_score(y_test,predictions))\n",
        "print('score',xgb_classifier.score(x_test,y_test))\n"
      ],
      "metadata": {
        "colab": {
          "base_uri": "https://localhost:8080/"
        },
        "id": "xsCb5con7t84",
        "outputId": "59bf39a3-2836-4a92-d934-4a9bd4fd2047"
      },
      "execution_count": null,
      "outputs": [
        {
          "output_type": "stream",
          "name": "stdout",
          "text": [
            "Accuracy of Model:: 0.88898756660746\n",
            "score 0.88898756660746\n"
          ]
        }
      ]
    }
  ],
  "metadata": {
    "colab": {
      "provenance": [],
      "include_colab_link": true
    },
    "kernelspec": {
      "display_name": "Python 3",
      "name": "python3"
    },
    "language_info": {
      "name": "python"
    }
  },
  "nbformat": 4,
  "nbformat_minor": 0
}